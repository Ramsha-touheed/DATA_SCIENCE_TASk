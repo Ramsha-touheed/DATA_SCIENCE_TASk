{
 "cells": [
  {
   "cell_type": "code",
   "execution_count": 193,
   "id": "9997a6be",
   "metadata": {},
   "outputs": [],
   "source": [
    "import pandas as pd\n",
    "import numpy as np\n",
    "import csv\n",
    "from sklearn import metrics\n",
    "from sklearn.model_selection import train_test_split\n",
    "from sklearn.tree import DecisionTreeClassifier\n",
    "from sklearn.tree import plot_tree\n",
    "from sklearn import tree\n",
    "import matplotlib.pyplot as mt\n",
    "%matplotlib inline\n",
    "from sklearn.model_selection import cross_val_score\n",
    "from sklearn.model_selection import LeaveOneOut\n",
    "from sklearn.metrics import confusion_matrix, classification_report\n",
    "from sklearn.preprocessing import MinMaxScaler\n",
    "loocv = LeaveOneOut()"
   ]
  },
  {
   "cell_type": "code",
   "execution_count": 55,
   "id": "a072f277",
   "metadata": {},
   "outputs": [
    {
     "name": "stdout",
     "output_type": "stream",
     "text": [
      "<class 'pandas.core.frame.DataFrame'>\n",
      "RangeIndex: 340 entries, 0 to 339\n",
      "Data columns (total 16 columns):\n",
      " #   Column                     Non-Null Count  Dtype  \n",
      "---  ------                     --------------  -----  \n",
      " 0   Class                      340 non-null    int64  \n",
      " 1   Specimen No                340 non-null    int64  \n",
      " 2   Eccentricity               340 non-null    float64\n",
      " 3   Aspect Ratio               340 non-null    float64\n",
      " 4   Elongation                 340 non-null    float64\n",
      " 5    Solidity                  340 non-null    float64\n",
      " 6   Stochastic Convexity       340 non-null    float64\n",
      " 7   Isoperimetric Factor       340 non-null    float64\n",
      " 8   Maximal Indentation Depth  340 non-null    float64\n",
      " 9    Lobedness                 340 non-null    float64\n",
      " 10  Average Intensity          340 non-null    float64\n",
      " 11  Average Contrast           340 non-null    float64\n",
      " 12  Smoothness                 340 non-null    float64\n",
      " 13  Third moment               340 non-null    float64\n",
      " 14  Uniformity                 340 non-null    float64\n",
      " 15   Entropy                   340 non-null    float64\n",
      "dtypes: float64(14), int64(2)\n",
      "memory usage: 42.6 KB\n"
     ]
    }
   ],
   "source": [
    "leaf_dataSet.info()"
   ]
  },
  {
   "cell_type": "code",
   "execution_count": 56,
   "id": "693f5887",
   "metadata": {},
   "outputs": [],
   "source": [
    "#dividing cloumns\n",
    "X = leaf_dataSet.iloc[:, 0] #class column is our target\n",
    "Y = leaf_dataSet.drop(columns=['Class','Specimen No']) #removing class and specimen no from Y data set"
   ]
  },
  {
   "cell_type": "markdown",
   "id": "2a03ee13",
   "metadata": {},
   "source": [
    "# without Normalizing "
   ]
  },
  {
   "cell_type": "markdown",
   "id": "bf6aa8c4",
   "metadata": {},
   "source": [
    "# 1.data test-size = 75% and train-size =25"
   ]
  },
  {
   "cell_type": "code",
   "execution_count": 95,
   "id": "1d87ddf0",
   "metadata": {},
   "outputs": [
    {
     "name": "stdout",
     "output_type": "stream",
     "text": [
      "X-train = (255,)\n",
      "X-test = (85,)\n",
      "Y-train = (255, 14)\n",
      "Y-test = (85, 14)\n"
     ]
    }
   ],
   "source": [
    "x_train1, x_test1, y_train1, y_test1 = train_test_split(X,Y,test_size=0.25 ) # 0.25 == 25% test size\n",
    "print('X-train =',x_train1.shape)\n",
    "print('X-test =',x_test1.shape)\n",
    "print('Y-train =',y_train1.shape)\n",
    "print('Y-test =',y_test1.shape)"
   ]
  },
  {
   "cell_type": "code",
   "execution_count": 89,
   "id": "d4bc36d7",
   "metadata": {},
   "outputs": [
    {
     "data": {
      "text/plain": [
       "DecisionTreeClassifier(random_state=0)"
      ]
     },
     "execution_count": 89,
     "metadata": {},
     "output_type": "execute_result"
    }
   ],
   "source": [
    "decision_tree=DecisionTreeClassifier(criterion = 'gini', random_state = 0)\n",
    "decision_tree.fit(y_train1,x_train1)"
   ]
  },
  {
   "cell_type": "code",
   "execution_count": 119,
   "id": "af32217b",
   "metadata": {},
   "outputs": [],
   "source": [
    "y_pred1=decision_tree.predict(y_test1)"
   ]
  },
  {
   "cell_type": "code",
   "execution_count": 120,
   "id": "ebdf6982",
   "metadata": {},
   "outputs": [
    {
     "name": "stdout",
     "output_type": "stream",
     "text": [
      "Accuracy: 0.8470588235294118\n"
     ]
    }
   ],
   "source": [
    "print(\"Accuracy:\",metrics.accuracy_score(x_test1, y_pred1))"
   ]
  },
  {
   "cell_type": "code",
   "execution_count": 126,
   "id": "922b9777",
   "metadata": {},
   "outputs": [
    {
     "data": {
      "text/plain": [
       "array([1., 1., 0., 0., 1., 1., 0., 0., 0., 0., 0., 0., 1., 0., 0., 1., 0.,\n",
       "       0., 1., 1., 1., 0., 0., 0., 0., 0., 1., 1., 0., 1., 1., 1., 1., 1.,\n",
       "       0., 0., 0., 1., 0., 0., 0., 1., 0., 1., 0., 0., 1., 0., 0., 1., 1.,\n",
       "       1., 0., 1., 0., 0., 1., 0., 1., 0., 1., 1., 1., 0., 0., 1., 1., 0.,\n",
       "       1., 0., 1., 0., 0., 1., 0., 0., 1., 0., 1., 0., 0., 0., 1., 0., 1.,\n",
       "       1., 1., 1., 1., 1., 1., 0., 0., 1., 0., 1., 1., 1., 0., 1., 0., 1.,\n",
       "       0., 1., 0., 1., 1., 1., 0., 1., 1., 0., 1., 1., 0., 0., 0., 1., 0.,\n",
       "       1., 1., 1., 0., 0., 0., 1., 1., 1., 1., 0., 1., 1., 1., 1., 0., 0.,\n",
       "       0., 1., 0., 1., 1., 1., 1., 1., 1., 0., 1., 0., 1., 0., 1., 0., 1.,\n",
       "       0., 1., 0., 1., 1., 1., 0., 0., 1., 1., 1., 0., 0., 1., 1., 0., 1.,\n",
       "       1., 1., 0., 1., 1., 0., 1., 0., 0., 1., 1., 1., 1., 0., 0., 0., 0.,\n",
       "       0., 0., 1., 1., 1., 1., 0., 1., 1., 1., 0., 1., 0., 1., 1., 0., 1.,\n",
       "       1., 0., 1., 0., 1., 0., 0., 1., 1., 0., 1., 1., 1., 1., 0., 1., 1.,\n",
       "       1., 0., 0., 1., 0., 1., 1., 1., 1., 0., 1., 0., 0., 1., 1., 0., 0.,\n",
       "       1., 1., 1., 1., 0., 1., 1., 0., 0., 0., 1., 1., 0., 1., 1., 1., 1.])"
      ]
     },
     "execution_count": 126,
     "metadata": {},
     "output_type": "execute_result"
    }
   ],
   "source": [
    "d1 = tree.DecisionTreeClassifier(max_depth=100)\n",
    "score1 = cross_val_score(d1, y_train1, x_train1, cv=loocv)\n",
    "score1"
   ]
  },
  {
   "cell_type": "code",
   "execution_count": 135,
   "id": "7d0e4c04",
   "metadata": {},
   "outputs": [
    {
     "data": {
      "text/plain": [
       "0.5529411764705883"
      ]
     },
     "execution_count": 135,
     "metadata": {},
     "output_type": "execute_result"
    }
   ],
   "source": [
    "np.mean(score1)"
   ]
  },
  {
   "cell_type": "markdown",
   "id": "83c2f587",
   "metadata": {},
   "source": [
    "# Normalizing Data"
   ]
  },
  {
   "cell_type": "code",
   "execution_count": 191,
   "id": "1233ae45",
   "metadata": {},
   "outputs": [],
   "source": [
    "from sklearn.preprocessing import StandardScaler\n",
    "from sklearn.preprocessing import Normalizer\n",
    "scaler = StandardScaler()\n",
    "scaler.fit(y_train1)\n",
    "\n",
    "y_data_train1 = scaler.transform(y_train1)\n",
    "y_data_test1 = scaler.transform(y_test1)\n",
    "\n",
    "y_data_train1 = Normalizer().fit_transform(y_train1)\n",
    "y_data_test1 = Normalizer().fit(y_train1).transform(y_test1)"
   ]
  },
  {
   "cell_type": "code",
   "execution_count": 192,
   "id": "3918c402",
   "metadata": {},
   "outputs": [
    {
     "name": "stdout",
     "output_type": "stream",
     "text": [
      "Accuracy: 0.4470588235294118\n"
     ]
    }
   ],
   "source": [
    "decision_treeN1=DecisionTreeClassifier(criterion = 'gini', random_state = 0)\n",
    "decision_treeN1.fit(y_data_train1,x_train1)\n",
    "y_pred1=decision_tree.predict(y_data_test1)\n",
    "print(\"Accuracy:\",metrics.accuracy_score(x_test1, y_pred1))"
   ]
  },
  {
   "cell_type": "code",
   "execution_count": 176,
   "id": "7fbd7357",
   "metadata": {},
   "outputs": [
    {
     "data": {
      "text/plain": [
       "array([1., 1., 0., 0., 0., 1., 0., 0., 0., 1., 0., 0., 1., 1., 1., 1., 1.,\n",
       "       0., 0., 1., 0., 1., 0., 0., 0., 0., 1., 1., 1., 0., 1., 1., 1., 0.,\n",
       "       0., 0., 1., 1., 1., 0., 0., 1., 0., 1., 1., 0., 1., 0., 0., 1., 0.,\n",
       "       1., 0., 0., 0., 1., 1., 1., 0., 0., 1., 1., 1., 0., 0., 1., 1., 1.,\n",
       "       1., 0., 1., 0., 1., 0., 0., 1., 1., 0., 1., 1., 1., 0., 1., 1., 1.,\n",
       "       0., 1., 1., 1., 0., 1., 1., 1., 1., 0., 1., 1., 1., 1., 0., 1., 1.,\n",
       "       1., 1., 1., 1., 1., 1., 0., 1., 0., 0., 1., 1., 0., 1., 1., 1., 0.,\n",
       "       1., 1., 1., 1., 0., 0., 1., 1., 1., 1., 0., 1., 1., 1., 1., 0., 0.,\n",
       "       0., 1., 0., 0., 0., 1., 1., 0., 0., 1., 0., 0., 1., 0., 1., 1., 1.,\n",
       "       1., 1., 0., 0., 1., 1., 1., 1., 0., 1., 1., 1., 1., 1., 1., 1., 1.,\n",
       "       1., 1., 1., 1., 1., 1., 0., 0., 0., 1., 0., 1., 1., 0., 1., 0., 0.,\n",
       "       1., 0., 1., 1., 1., 1., 1., 1., 1., 1., 0., 1., 0., 0., 1., 0., 0.,\n",
       "       1., 0., 1., 1., 1., 1., 0., 1., 1., 0., 0., 1., 0., 0., 0., 1., 1.,\n",
       "       1., 1., 1., 0., 0., 1., 1., 1., 0., 1., 1., 0., 0., 0., 1., 1., 1.,\n",
       "       1., 0., 1., 1., 0., 1., 0., 1., 0., 1., 0., 1., 1., 0., 1., 1., 0.])"
      ]
     },
     "execution_count": 176,
     "metadata": {},
     "output_type": "execute_result"
    }
   ],
   "source": [
    "dN1 = tree.DecisionTreeClassifier(max_depth=100)\n",
    "scoreN1 = cross_val_score(d1, y_data_train1, x_train1, cv=loocv)\n",
    "scoreN1"
   ]
  },
  {
   "cell_type": "code",
   "execution_count": 177,
   "id": "d1b3629c",
   "metadata": {},
   "outputs": [
    {
     "data": {
      "text/plain": [
       "0.615686274509804"
      ]
     },
     "execution_count": 177,
     "metadata": {},
     "output_type": "execute_result"
    }
   ],
   "source": [
    "np.mean(scoreN1)"
   ]
  },
  {
   "cell_type": "markdown",
   "id": "3a7932c0",
   "metadata": {},
   "source": [
    "# 2.data test-size =0.66% and train-size =0.33%"
   ]
  },
  {
   "cell_type": "code",
   "execution_count": 128,
   "id": "5a7125d1",
   "metadata": {},
   "outputs": [
    {
     "name": "stdout",
     "output_type": "stream",
     "text": [
      "X-train = (227,)\n",
      "X-test = (113,)\n",
      "Y-train = (227, 14)\n",
      "Y-test = (113, 14)\n"
     ]
    }
   ],
   "source": [
    "x_train2, x_test2, y_train2, y_test2 = train_test_split(X,Y,test_size=0.33, random_state = 0 ) \n",
    "print('X-train =',x_train2.shape)\n",
    "print('X-test =',x_test2.shape)\n",
    "print('Y-train =',y_train2.shape)\n",
    "print('Y-test =',y_test2.shape)"
   ]
  },
  {
   "cell_type": "code",
   "execution_count": 140,
   "id": "6704b40d",
   "metadata": {},
   "outputs": [
    {
     "data": {
      "text/plain": [
       "DecisionTreeClassifier(random_state=0)"
      ]
     },
     "execution_count": 140,
     "metadata": {},
     "output_type": "execute_result"
    }
   ],
   "source": [
    "decision_tree2=DecisionTreeClassifier(criterion = 'gini', random_state = 0)\n",
    "decision_tree2.fit(y_train2,x_train2)"
   ]
  },
  {
   "cell_type": "code",
   "execution_count": 141,
   "id": "f6082269",
   "metadata": {},
   "outputs": [],
   "source": [
    "y_pred2=decision_tree2.predict(y_test2)"
   ]
  },
  {
   "cell_type": "code",
   "execution_count": 131,
   "id": "f8e1ed0c",
   "metadata": {},
   "outputs": [
    {
     "name": "stdout",
     "output_type": "stream",
     "text": [
      "Accuracy: 0.584070796460177\n"
     ]
    }
   ],
   "source": [
    "print(\"Accuracy:\",metrics.accuracy_score(x_test2, y_pred2))"
   ]
  },
  {
   "cell_type": "code",
   "execution_count": 142,
   "id": "185543d7",
   "metadata": {},
   "outputs": [
    {
     "data": {
      "text/plain": [
       "array([1., 0., 1., 1., 0., 1., 1., 1., 0., 1., 0., 0., 0., 0., 1., 1., 1.,\n",
       "       0., 1., 1., 0., 0., 0., 1., 1., 0., 0., 1., 1., 1., 1., 1., 1., 1.,\n",
       "       1., 0., 1., 0., 0., 1., 1., 1., 1., 1., 1., 0., 1., 1., 1., 1., 0.,\n",
       "       1., 1., 1., 1., 0., 1., 1., 1., 1., 1., 0., 1., 1., 1., 0., 0., 0.,\n",
       "       1., 1., 0., 1., 1., 0., 0., 0., 1., 1., 0., 0., 0., 1., 1., 1., 0.,\n",
       "       0., 0., 0., 0., 0., 1., 0., 1., 1., 1., 1., 0., 0., 0., 0., 1., 1.,\n",
       "       1., 1., 1., 0., 0., 1., 1., 0., 1., 0., 1., 1., 0., 0., 0., 0., 0.,\n",
       "       0., 0., 0., 1., 0., 0., 1., 0., 0., 0., 0., 1., 1., 1., 0., 1., 0.,\n",
       "       1., 0., 0., 1., 0., 1., 1., 1., 1., 1., 1., 0., 1., 0., 1., 1., 1.,\n",
       "       0., 0., 0., 1., 1., 0., 1., 0., 0., 1., 1., 0., 0., 0., 1., 1., 0.,\n",
       "       1., 0., 1., 1., 0., 0., 0., 1., 1., 1., 0., 0., 1., 1., 1., 1., 0.,\n",
       "       1., 0., 1., 1., 0., 0., 1., 0., 0., 1., 0., 1., 0., 1., 1., 1., 1.,\n",
       "       0., 0., 1., 0., 0., 1., 0., 1., 0., 1., 1., 1., 0., 1., 1., 0., 1.,\n",
       "       1., 1., 1., 1., 1., 0.])"
      ]
     },
     "execution_count": 142,
     "metadata": {},
     "output_type": "execute_result"
    }
   ],
   "source": [
    "d2 = tree.DecisionTreeClassifier(max_depth=100)\n",
    "score2 = cross_val_score(d2, y_train2, x_train2, cv=loocv)\n",
    "score2"
   ]
  },
  {
   "cell_type": "code",
   "execution_count": 152,
   "id": "e50e8614",
   "metadata": {},
   "outputs": [
    {
     "data": {
      "text/plain": [
       "0.5418502202643172"
      ]
     },
     "execution_count": 152,
     "metadata": {},
     "output_type": "execute_result"
    }
   ],
   "source": [
    "np.mean(score2)"
   ]
  },
  {
   "cell_type": "markdown",
   "id": "9edf700d",
   "metadata": {},
   "source": [
    "# Normalizing data"
   ]
  },
  {
   "cell_type": "code",
   "execution_count": 178,
   "id": "11acd316",
   "metadata": {},
   "outputs": [],
   "source": [
    "from sklearn.preprocessing import StandardScaler\n",
    "from sklearn.preprocessing import Normalizer\n",
    "scaler = StandardScaler()\n",
    "scaler.fit(y_train2)\n",
    "\n",
    "y_data_train2 = scaler.transform(y_train2)\n",
    "y_data_test2 = scaler.transform(y_test2)\n",
    "\n",
    "y_data_train2 = Normalizer().fit_transform(y_train2)\n",
    "y_data_test2 = Normalizer().fit(y_train2).transform(y_test2)"
   ]
  },
  {
   "cell_type": "code",
   "execution_count": 179,
   "id": "d9f45c96",
   "metadata": {},
   "outputs": [
    {
     "name": "stdout",
     "output_type": "stream",
     "text": [
      "Accuracy: 0.8495575221238938\n"
     ]
    }
   ],
   "source": [
    "decision_treeN2=DecisionTreeClassifier(criterion = 'gini', random_state = 0)\n",
    "decision_treeN2.fit(y_data_train2,x_train2)\n",
    "y_pred2=decision_tree.predict(y_data_test2)\n",
    "print(\"Accuracy:\",metrics.accuracy_score(x_test2, y_pred2))"
   ]
  },
  {
   "cell_type": "code",
   "execution_count": 181,
   "id": "efe071a1",
   "metadata": {},
   "outputs": [
    {
     "data": {
      "text/plain": [
       "array([0., 0., 1., 1., 0., 1., 1., 0., 0., 0., 1., 1., 1., 0., 1., 1., 0.,\n",
       "       0., 1., 1., 0., 0., 0., 0., 1., 0., 1., 1., 0., 1., 1., 1., 0., 1.,\n",
       "       1., 0., 1., 0., 0., 1., 1., 1., 1., 1., 0., 0., 1., 0., 1., 1., 0.,\n",
       "       1., 1., 1., 0., 0., 1., 1., 0., 0., 1., 0., 0., 0., 0., 0., 0., 0.,\n",
       "       1., 0., 0., 1., 1., 0., 1., 1., 1., 0., 1., 0., 1., 1., 1., 1., 1.,\n",
       "       1., 0., 0., 1., 1., 1., 0., 1., 1., 1., 1., 0., 1., 0., 1., 1., 1.,\n",
       "       1., 0., 1., 0., 0., 1., 1., 1., 1., 0., 1., 0., 0., 0., 1., 0., 1.,\n",
       "       0., 0., 0., 1., 0., 0., 1., 1., 0., 1., 0., 1., 0., 0., 0., 1., 0.,\n",
       "       0., 1., 0., 1., 0., 1., 0., 1., 1., 0., 0., 0., 1., 1., 1., 0., 0.,\n",
       "       1., 0., 1., 0., 0., 1., 1., 0., 0., 1., 1., 0., 0., 1., 0., 1., 0.,\n",
       "       1., 0., 1., 1., 0., 0., 0., 0., 1., 1., 1., 0., 1., 1., 0., 1., 0.,\n",
       "       1., 0., 1., 1., 1., 0., 1., 0., 1., 1., 1., 0., 0., 0., 1., 0., 1.,\n",
       "       0., 0., 0., 0., 1., 0., 1., 1., 0., 1., 0., 1., 0., 1., 1., 1., 1.,\n",
       "       1., 1., 0., 1., 1., 0.])"
      ]
     },
     "execution_count": 181,
     "metadata": {},
     "output_type": "execute_result"
    }
   ],
   "source": [
    "dN2 = tree.DecisionTreeClassifier(max_depth=100)\n",
    "scoreN2 = cross_val_score(d2, y_data_train2, x_train2, cv=loocv)\n",
    "scoreN2"
   ]
  },
  {
   "cell_type": "code",
   "execution_count": 184,
   "id": "4d989d77",
   "metadata": {},
   "outputs": [
    {
     "data": {
      "text/plain": [
       "0.5330396475770925"
      ]
     },
     "execution_count": 184,
     "metadata": {},
     "output_type": "execute_result"
    }
   ],
   "source": [
    "np.mean(scoreN2)"
   ]
  },
  {
   "cell_type": "markdown",
   "id": "f2f4b9cd",
   "metadata": {},
   "source": [
    "# 3.data test-size =0.50% and train-size =0.50%"
   ]
  },
  {
   "cell_type": "markdown",
   "id": "853645b4",
   "metadata": {},
   "source": [
    "# Non-normalized data "
   ]
  },
  {
   "cell_type": "code",
   "execution_count": 137,
   "id": "5738b198",
   "metadata": {},
   "outputs": [
    {
     "name": "stdout",
     "output_type": "stream",
     "text": [
      "X-train = (170,)\n",
      "X-test = (170,)\n",
      "Y-train = (170, 14)\n",
      "Y-test = (170, 14)\n"
     ]
    }
   ],
   "source": [
    "x_train3, x_test3, y_train3, y_test3 = train_test_split(X,Y,test_size=0.50, random_state = 0 ) \n",
    "print('X-train =',x_train3.shape)\n",
    "print('X-test =',x_test3.shape)\n",
    "print('Y-train =',y_train3.shape)\n",
    "print('Y-test =',y_test3.shape)"
   ]
  },
  {
   "cell_type": "code",
   "execution_count": 139,
   "id": "6af45d4a",
   "metadata": {},
   "outputs": [
    {
     "data": {
      "text/plain": [
       "DecisionTreeClassifier(random_state=0)"
      ]
     },
     "execution_count": 139,
     "metadata": {},
     "output_type": "execute_result"
    }
   ],
   "source": [
    "decision_tree3=DecisionTreeClassifier(criterion = 'gini', random_state = 0)\n",
    "decision_tree3.fit(y_train3,x_train3)"
   ]
  },
  {
   "cell_type": "code",
   "execution_count": 147,
   "id": "9d1ee589",
   "metadata": {},
   "outputs": [],
   "source": [
    "y_pred3=decision_tree2.predict(y_test3)"
   ]
  },
  {
   "cell_type": "code",
   "execution_count": 148,
   "id": "78bb1423",
   "metadata": {},
   "outputs": [
    {
     "name": "stdout",
     "output_type": "stream",
     "text": [
      "Accuracy: 0.7235294117647059\n"
     ]
    }
   ],
   "source": [
    "print(\"Accuracy:\",metrics.accuracy_score(x_test3, y_pred3))"
   ]
  },
  {
   "cell_type": "code",
   "execution_count": 150,
   "id": "b05acf06",
   "metadata": {},
   "outputs": [
    {
     "data": {
      "text/plain": [
       "array([1., 1., 0., 1., 0., 1., 1., 1., 0., 0., 0., 1., 0., 0., 1., 1., 0.,\n",
       "       0., 0., 1., 0., 0., 0., 1., 1., 1., 1., 0., 0., 0., 0., 0., 0., 1.,\n",
       "       0., 0., 1., 1., 1., 1., 0., 0., 0., 1., 1., 1., 1., 1., 0., 0., 1.,\n",
       "       1., 0., 1., 0., 0., 1., 0., 0., 0., 0., 0., 0., 0., 0., 1., 0., 1.,\n",
       "       1., 0., 0., 1., 0., 0., 0., 1., 1., 1., 1., 1., 0., 0., 1., 0., 1.,\n",
       "       1., 1., 1., 1., 1., 0., 1., 1., 1., 1., 0., 0., 0., 0., 1., 0., 1.,\n",
       "       1., 0., 0., 1., 1., 0., 0., 0., 1., 1., 1., 1., 0., 1., 1., 0., 0.,\n",
       "       1., 1., 1., 1., 0., 1., 0., 1., 0., 1., 1., 1., 0., 1., 1., 1., 1.,\n",
       "       1., 0., 0., 1., 0., 0., 0., 1., 1., 1., 1., 0., 0., 0., 0., 1., 0.,\n",
       "       0., 1., 0., 1., 1., 1., 0., 1., 1., 0., 0., 1., 1., 1., 1., 1., 0.])"
      ]
     },
     "execution_count": 150,
     "metadata": {},
     "output_type": "execute_result"
    }
   ],
   "source": [
    "d3 = tree.DecisionTreeClassifier(max_depth=100)\n",
    "score3 = cross_val_score(d3, y_train3, x_train3, cv=loocv)\n",
    "score3"
   ]
  },
  {
   "cell_type": "code",
   "execution_count": 154,
   "id": "5c8867c2",
   "metadata": {},
   "outputs": [
    {
     "data": {
      "text/plain": [
       "0.5294117647058824"
      ]
     },
     "execution_count": 154,
     "metadata": {},
     "output_type": "execute_result"
    }
   ],
   "source": [
    "np.mean(score3)"
   ]
  },
  {
   "cell_type": "markdown",
   "id": "b32e10a5",
   "metadata": {},
   "source": [
    "# Normalizing data"
   ]
  },
  {
   "cell_type": "code",
   "execution_count": 187,
   "id": "e98200cc",
   "metadata": {},
   "outputs": [],
   "source": [
    "from sklearn.preprocessing import StandardScaler\n",
    "from sklearn.preprocessing import Normalizer\n",
    "scaler = StandardScaler()\n",
    "scaler.fit(y_train3)\n",
    "\n",
    "y_data_train3 = scaler.transform(y_train3)\n",
    "y_data_test3 = scaler.transform(y_test3)\n",
    "\n",
    "y_data_train3 = Normalizer().fit_transform(y_train3)\n",
    "y_data_test3 = Normalizer().fit(y_train3).transform(y_test3)"
   ]
  },
  {
   "cell_type": "code",
   "execution_count": 188,
   "id": "2eda38b6",
   "metadata": {},
   "outputs": [
    {
     "name": "stdout",
     "output_type": "stream",
     "text": [
      "Accuracy: 0.8411764705882353\n"
     ]
    }
   ],
   "source": [
    "decision_treeN3=DecisionTreeClassifier(criterion = 'gini', random_state = 0)\n",
    "decision_treeN3.fit(y_data_train3,x_train3)\n",
    "y_pred3=decision_tree.predict(y_data_test3)\n",
    "print(\"Accuracy:\",metrics.accuracy_score(x_test3, y_pred3))"
   ]
  },
  {
   "cell_type": "code",
   "execution_count": 189,
   "id": "007cac7e",
   "metadata": {},
   "outputs": [
    {
     "data": {
      "text/plain": [
       "array([1., 1., 0., 1., 0., 0., 1., 1., 0., 0., 1., 1., 0., 0., 1., 0., 0.,\n",
       "       0., 1., 1., 0., 0., 0., 1., 1., 1., 1., 1., 1., 0., 0., 1., 0., 1.,\n",
       "       0., 1., 0., 1., 1., 1., 0., 0., 1., 0., 1., 1., 0., 1., 0., 1., 1.,\n",
       "       1., 0., 0., 0., 1., 0., 1., 0., 0., 0., 1., 0., 0., 0., 1., 0., 0.,\n",
       "       1., 0., 0., 0., 0., 1., 0., 1., 1., 1., 0., 0., 0., 1., 1., 1., 1.,\n",
       "       1., 1., 1., 1., 1., 0., 1., 0., 1., 0., 0., 0., 0., 0., 0., 0., 0.,\n",
       "       1., 1., 0., 1., 1., 1., 0., 0., 1., 1., 0., 1., 0., 1., 1., 1., 1.,\n",
       "       0., 1., 1., 1., 1., 1., 1., 1., 0., 1., 1., 0., 0., 1., 1., 1., 0.,\n",
       "       1., 0., 0., 1., 0., 0., 1., 0., 1., 0., 1., 0., 0., 0., 0., 1., 0.,\n",
       "       1., 1., 0., 1., 0., 1., 0., 1., 0., 0., 0., 0., 1., 0., 1., 0., 1.])"
      ]
     },
     "execution_count": 189,
     "metadata": {},
     "output_type": "execute_result"
    }
   ],
   "source": [
    "dN3 = tree.DecisionTreeClassifier(max_depth=100)\n",
    "scoreN3 = cross_val_score(d2, y_data_train3, x_train3, cv=loocv)\n",
    "scoreN3"
   ]
  },
  {
   "cell_type": "code",
   "execution_count": 190,
   "id": "a6230607",
   "metadata": {},
   "outputs": [
    {
     "data": {
      "text/plain": [
       "0.5294117647058824"
      ]
     },
     "execution_count": 190,
     "metadata": {},
     "output_type": "execute_result"
    }
   ],
   "source": [
    "np.mean(score3)"
   ]
  },
  {
   "cell_type": "markdown",
   "id": "3eaea9f5",
   "metadata": {},
   "source": [
    "# Conclusion \n",
    "when ever we Normalize and standardize our data we recive highest ammount of acccuracy.."
   ]
  }
 ],
 "metadata": {
  "kernelspec": {
   "display_name": "Python 3",
   "language": "python",
   "name": "python3"
  },
  "language_info": {
   "codemirror_mode": {
    "name": "ipython",
    "version": 3
   },
   "file_extension": ".py",
   "mimetype": "text/x-python",
   "name": "python",
   "nbconvert_exporter": "python",
   "pygments_lexer": "ipython3",
   "version": "3.6.2"
  }
 },
 "nbformat": 4,
 "nbformat_minor": 5
}
